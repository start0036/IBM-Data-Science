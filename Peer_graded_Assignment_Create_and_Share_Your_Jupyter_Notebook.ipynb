{
  "nbformat": 4,
  "nbformat_minor": 0,
  "metadata": {
    "colab": {
      "name": "Peer-graded Assignment: Create and Share Your Jupyter Notebook",
      "provenance": [],
      "collapsed_sections": []
    },
    "kernelspec": {
      "name": "python3",
      "display_name": "Python 3"
    },
    "language_info": {
      "name": "python"
    }
  },
  "cells": [
    {
      "cell_type": "code",
      "execution_count": null,
      "metadata": {
        "id": "fxhL3yjD6XYM"
      },
      "outputs": [],
      "source": [
        ""
      ]
    },
    {
      "cell_type": "markdown",
      "source": [
        "# Peer-graded Assignment: Create and Share Your Jupyter Notebook"
      ],
      "metadata": {
        "id": "CeXgkS0A6e_s"
      }
    },
    {
      "cell_type": "markdown",
      "source": [
        "**Yaoshen Li**\n",
        "\n",
        "**Data scientist**"
      ],
      "metadata": {
        "id": "XVIzdg2K6ppQ"
      }
    },
    {
      "cell_type": "markdown",
      "source": [
        "*I am interested in data science because it the trend, I would like to use data science knowledge to write doctoral thesis and as a data scientist, it make more money*"
      ],
      "metadata": {
        "id": "Q_mwQnGS7D_I"
      }
    },
    {
      "cell_type": "markdown",
      "source": [
        "### I would like to print my name"
      ],
      "metadata": {
        "id": "J8j8QTbD7cti"
      }
    },
    {
      "cell_type": "code",
      "source": [
        "print ('mein Name ist Yaoshen Li')"
      ],
      "metadata": {
        "colab": {
          "base_uri": "https://localhost:8080/"
        },
        "id": "dio9lCKX7iqw",
        "outputId": "4fb0419c-28e3-4b85-e753-e9b3e7af0c2c"
      },
      "execution_count": null,
      "outputs": [
        {
          "output_type": "stream",
          "name": "stdout",
          "text": [
            "mein Name ist Yaoshen Li\n"
          ]
        }
      ]
    },
    {
      "cell_type": "markdown",
      "source": [
        "\n",
        "\n",
        "\n",
        "\n",
        "\n",
        "---\n",
        "\n",
        "\n",
        "*    bulleted list\n",
        "*     bulleted list\n",
        "\n",
        "\n",
        "\n",
        "1.   numbered list\n",
        "2.   numbered list\n",
        "\n",
        "| column | column |\n",
        "|---|---|\n",
        "| content | content |\n",
        "| content | content |\n",
        "| content | content |\n",
        "| content | content |\n",
        "| content | content |\n",
        "| content | content |\n",
        "\n",
        "\n",
        "\n",
        "[Link](https://google.com)\n",
        "\n",
        "<img src=\"https://datasolut.com/wp-content/uploads/2020/07/data-science-768x576.png.webp\">\n",
        "\n",
        "```\n",
        "# print ('My name is Yaoshen Li')\n",
        "```\n",
        "<blockquote> blockquote </blockquote>\n",
        "<p><s>strikethrough</s></p>\n",
        "\n"
      ],
      "metadata": {
        "id": "yI18Fz-S8BOI"
      }
    }
  ]
}